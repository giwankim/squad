{
 "cells": [
  {
   "cell_type": "markdown",
   "metadata": {},
   "source": [
    "# Parse data"
   ]
  },
  {
   "cell_type": "code",
   "execution_count": 1,
   "metadata": {},
   "outputs": [],
   "source": [
    "%reload_ext autoreload\n",
    "%autoreload 2"
   ]
  },
  {
   "cell_type": "code",
   "execution_count": 2,
   "metadata": {},
   "outputs": [],
   "source": [
    "import json\n",
    "import pandas as pd\n",
    "from pathlib import Path\n",
    "from tqdm import tqdm"
   ]
  },
  {
   "cell_type": "code",
   "execution_count": 3,
   "metadata": {},
   "outputs": [],
   "source": [
    "DATA_PATH = Path('../data/raw')\n",
    "TRAIN_PATH = DATA_PATH / 'train-v2.0.json'"
   ]
  },
  {
   "cell_type": "code",
   "execution_count": 4,
   "metadata": {},
   "outputs": [],
   "source": [
    "with open(TRAIN_PATH, 'r') as reader:\n",
    "    input_data = json.load(reader)['data']"
   ]
  },
  {
   "cell_type": "code",
   "execution_count": 9,
   "metadata": {
    "scrolled": false
   },
   "outputs": [
    {
     "name": "stderr",
     "output_type": "stream",
     "text": [
      "100%|██████████| 442/442 [00:00<00:00, 5849.57it/s]\n"
     ]
    }
   ],
   "source": [
    "paragraph_text_list = []\n",
    "question_text_list = []\n",
    "answer_start_list = []\n",
    "answer_text_list = []\n",
    "qa_id_list = []\n",
    "is_impossible_list = []\n",
    "\n",
    "for entry in tqdm(input_data):\n",
    "    for paragraph in entry['paragraphs']:\n",
    "        paragraph_text = paragraph['context']\n",
    "        \n",
    "        for qa in paragraph['qas']:\n",
    "            qa_id = qa['id']\n",
    "            question_text = qa['question']\n",
    "            is_impossible = qa['is_impossible']\n",
    "            \n",
    "            answer_start = None\n",
    "            answer_text = \"\"\n",
    "            \n",
    "            if not is_impossible:\n",
    "                answer = qa['answers'][0]\n",
    "                answer_text = answer['text']\n",
    "                answer_start = answer['answer_start']\n",
    "            \n",
    "            paragraph_text_list.append(paragraph_text)\n",
    "            question_text_list.append(question_text)\n",
    "            answer_start_list.append(answer_start)\n",
    "            answer_text_list.append(answer_text)\n",
    "            qa_id_list.append(qa_id)\n",
    "            is_impossible_list.append(is_impossible)"
   ]
  },
  {
   "cell_type": "code",
   "execution_count": 16,
   "metadata": {},
   "outputs": [
    {
     "data": {
      "text/html": [
       "<div>\n",
       "<style scoped>\n",
       "    .dataframe tbody tr th:only-of-type {\n",
       "        vertical-align: middle;\n",
       "    }\n",
       "\n",
       "    .dataframe tbody tr th {\n",
       "        vertical-align: top;\n",
       "    }\n",
       "\n",
       "    .dataframe thead th {\n",
       "        text-align: right;\n",
       "    }\n",
       "</style>\n",
       "<table border=\"1\" class=\"dataframe\">\n",
       "  <thead>\n",
       "    <tr style=\"text-align: right;\">\n",
       "      <th></th>\n",
       "      <th>context</th>\n",
       "      <th>question</th>\n",
       "      <th>answer_start</th>\n",
       "      <th>answer</th>\n",
       "      <th>qa_id</th>\n",
       "      <th>is_impossible</th>\n",
       "    </tr>\n",
       "  </thead>\n",
       "  <tbody>\n",
       "    <tr>\n",
       "      <th>0</th>\n",
       "      <td>Beyoncé Giselle Knowles-Carter (/biːˈjɒnseɪ/ b...</td>\n",
       "      <td>When did Beyonce start becoming popular?</td>\n",
       "      <td>269.0</td>\n",
       "      <td></td>\n",
       "      <td>56be85543aeaaa14008c9063</td>\n",
       "      <td>False</td>\n",
       "    </tr>\n",
       "    <tr>\n",
       "      <th>1</th>\n",
       "      <td>Beyoncé Giselle Knowles-Carter (/biːˈjɒnseɪ/ b...</td>\n",
       "      <td>What areas did Beyonce compete in when she was...</td>\n",
       "      <td>207.0</td>\n",
       "      <td></td>\n",
       "      <td>56be85543aeaaa14008c9065</td>\n",
       "      <td>False</td>\n",
       "    </tr>\n",
       "    <tr>\n",
       "      <th>2</th>\n",
       "      <td>Beyoncé Giselle Knowles-Carter (/biːˈjɒnseɪ/ b...</td>\n",
       "      <td>When did Beyonce leave Destiny's Child and bec...</td>\n",
       "      <td>526.0</td>\n",
       "      <td></td>\n",
       "      <td>56be85543aeaaa14008c9066</td>\n",
       "      <td>False</td>\n",
       "    </tr>\n",
       "    <tr>\n",
       "      <th>3</th>\n",
       "      <td>Beyoncé Giselle Knowles-Carter (/biːˈjɒnseɪ/ b...</td>\n",
       "      <td>In what city and state did Beyonce  grow up?</td>\n",
       "      <td>166.0</td>\n",
       "      <td></td>\n",
       "      <td>56bf6b0f3aeaaa14008c9601</td>\n",
       "      <td>False</td>\n",
       "    </tr>\n",
       "    <tr>\n",
       "      <th>4</th>\n",
       "      <td>Beyoncé Giselle Knowles-Carter (/biːˈjɒnseɪ/ b...</td>\n",
       "      <td>In which decade did Beyonce become famous?</td>\n",
       "      <td>276.0</td>\n",
       "      <td></td>\n",
       "      <td>56bf6b0f3aeaaa14008c9602</td>\n",
       "      <td>False</td>\n",
       "    </tr>\n",
       "  </tbody>\n",
       "</table>\n",
       "</div>"
      ],
      "text/plain": [
       "                                             context  \\\n",
       "0  Beyoncé Giselle Knowles-Carter (/biːˈjɒnseɪ/ b...   \n",
       "1  Beyoncé Giselle Knowles-Carter (/biːˈjɒnseɪ/ b...   \n",
       "2  Beyoncé Giselle Knowles-Carter (/biːˈjɒnseɪ/ b...   \n",
       "3  Beyoncé Giselle Knowles-Carter (/biːˈjɒnseɪ/ b...   \n",
       "4  Beyoncé Giselle Knowles-Carter (/biːˈjɒnseɪ/ b...   \n",
       "\n",
       "                                            question  answer_start answer  \\\n",
       "0           When did Beyonce start becoming popular?         269.0          \n",
       "1  What areas did Beyonce compete in when she was...         207.0          \n",
       "2  When did Beyonce leave Destiny's Child and bec...         526.0          \n",
       "3      In what city and state did Beyonce  grow up?          166.0          \n",
       "4         In which decade did Beyonce become famous?         276.0          \n",
       "\n",
       "                      qa_id  is_impossible  \n",
       "0  56be85543aeaaa14008c9063          False  \n",
       "1  56be85543aeaaa14008c9065          False  \n",
       "2  56be85543aeaaa14008c9066          False  \n",
       "3  56bf6b0f3aeaaa14008c9601          False  \n",
       "4  56bf6b0f3aeaaa14008c9602          False  "
      ]
     },
     "execution_count": 16,
     "metadata": {},
     "output_type": "execute_result"
    }
   ],
   "source": [
    "train_df = pd.DataFrame(\n",
    "    {\n",
    "        'context': paragraph_text_list,\n",
    "        'question': question_text_list,\n",
    "        'answer_start': answer_start_list,\n",
    "        'answer': answer_text,\n",
    "        'qa_id': qa_id_list,\n",
    "        'is_impossible': is_impossible_list,\n",
    "    }\n",
    ")\n",
    "train_df.head()"
   ]
  },
  {
   "cell_type": "code",
   "execution_count": null,
   "metadata": {},
   "outputs": [],
   "source": []
  },
  {
   "cell_type": "code",
   "execution_count": null,
   "metadata": {},
   "outputs": [],
   "source": []
  },
  {
   "cell_type": "code",
   "execution_count": null,
   "metadata": {},
   "outputs": [],
   "source": []
  },
  {
   "cell_type": "code",
   "execution_count": null,
   "metadata": {},
   "outputs": [],
   "source": []
  },
  {
   "cell_type": "code",
   "execution_count": null,
   "metadata": {},
   "outputs": [],
   "source": []
  },
  {
   "cell_type": "code",
   "execution_count": null,
   "metadata": {},
   "outputs": [],
   "source": []
  }
 ],
 "metadata": {
  "kernelspec": {
   "display_name": "Python [conda env:squad] *",
   "language": "python",
   "name": "conda-env-squad-py"
  },
  "language_info": {
   "codemirror_mode": {
    "name": "ipython",
    "version": 3
   },
   "file_extension": ".py",
   "mimetype": "text/x-python",
   "name": "python",
   "nbconvert_exporter": "python",
   "pygments_lexer": "ipython3",
   "version": "3.8.3"
  }
 },
 "nbformat": 4,
 "nbformat_minor": 4
}
