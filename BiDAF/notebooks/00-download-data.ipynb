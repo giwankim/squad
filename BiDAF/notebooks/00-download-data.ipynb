{
 "cells": [
  {
   "cell_type": "markdown",
   "metadata": {},
   "source": [
    "# Download data"
   ]
  },
  {
   "cell_type": "code",
   "execution_count": 7,
   "metadata": {},
   "outputs": [],
   "source": [
    "import math\n",
    "import os\n",
    "import requests\n",
    "from tqdm import tqdm"
   ]
  },
  {
   "cell_type": "code",
   "execution_count": 9,
   "metadata": {},
   "outputs": [],
   "source": [
    "def download_url(url, output_directory='.'):\n",
    "    filename = url.split(\"/\")[-1]\n",
    "    output_directory = Path(output_directory)\n",
    "    filepath = output_directory / filename\n",
    "    if not filepath.exists():\n",
    "        if not output_directory.is_dir():\n",
    "            output_directory.mkdir()\n",
    "        r = requests.get(url, stream=True)\n",
    "        tsize =  int(r.headers.get('content-length', 0))\n",
    "        bsize = 1024\n",
    "        num_iterables = math.ceil(tsize / bsize)\n",
    "        \n",
    "        with open(filepath, 'wb') as file:\n",
    "            for chunk in tqdm(r.iter_content(bsize), total=num_iterables, unit=\"KB\", unit_scale=True):\n",
    "                file.write(chunk)\n",
    "\n",
    "    return filepath"
   ]
  },
  {
   "cell_type": "code",
   "execution_count": 10,
   "metadata": {},
   "outputs": [
    {
     "data": {
      "text/plain": [
       "PosixPath('/home/isleof/Development/squad/BiDAF/notebooks')"
      ]
     },
     "execution_count": 10,
     "metadata": {},
     "output_type": "execute_result"
    }
   ],
   "source": [
    "Path().resolve()"
   ]
  },
  {
   "cell_type": "code",
   "execution_count": 11,
   "metadata": {},
   "outputs": [
    {
     "data": {
      "text/plain": [
       "PosixPath('../data/raw/train-v2.0.json')"
      ]
     },
     "execution_count": 11,
     "metadata": {},
     "output_type": "execute_result"
    }
   ],
   "source": [
    "download_url(\"https://github.com/chrischute/squad/data/train-v2.0.json\", \"../data/raw\")"
   ]
  },
  {
   "cell_type": "code",
   "execution_count": null,
   "metadata": {},
   "outputs": [],
   "source": [
    "import os\n",
    "import zipfile\n",
    "\n",
    "def extract_zip(file_path, dest_path='.'):\n",
    "    \"\"\"Extracts all contents of a zip archive file.\n",
    "    Args:\n",
    "        file_path (str): Path or file to extract\n",
    "        dest_path (str, optional): Destination directory. Defaults to \".\".\n",
    "    \"\"\"\n",
    "    if not os.path.exists(file_path):\n",
    "        raise IOError(\"File doesn't exist\")\n",
    "    if not os.path.exists(dest_path):\n",
    "        raise IOError(\"Destination directory doesn't exist\")\n",
    "    with zipfile.ZipFile(file_path) as z:\n",
    "        z.extractall(dest_path, filter(lambda f: not f.endswith(\"\\r\"), z.namelist()))"
   ]
  },
  {
   "cell_type": "code",
   "execution_count": null,
   "metadata": {},
   "outputs": [],
   "source": [
    "def get_embedding()"
   ]
  },
  {
   "cell_type": "code",
   "execution_count": null,
   "metadata": {},
   "outputs": [],
   "source": []
  },
  {
   "cell_type": "code",
   "execution_count": null,
   "metadata": {},
   "outputs": [],
   "source": []
  },
  {
   "cell_type": "code",
   "execution_count": null,
   "metadata": {},
   "outputs": [],
   "source": []
  },
  {
   "cell_type": "code",
   "execution_count": null,
   "metadata": {},
   "outputs": [],
   "source": []
  },
  {
   "cell_type": "code",
   "execution_count": null,
   "metadata": {},
   "outputs": [],
   "source": []
  },
  {
   "cell_type": "code",
   "execution_count": null,
   "metadata": {},
   "outputs": [],
   "source": []
  },
  {
   "cell_type": "code",
   "execution_count": null,
   "metadata": {},
   "outputs": [],
   "source": []
  },
  {
   "cell_type": "code",
   "execution_count": null,
   "metadata": {},
   "outputs": [],
   "source": []
  },
  {
   "cell_type": "code",
   "execution_count": null,
   "metadata": {},
   "outputs": [],
   "source": []
  }
 ],
 "metadata": {
  "kernelspec": {
   "display_name": "Python [conda env:squad] *",
   "language": "python",
   "name": "conda-env-squad-py"
  },
  "language_info": {
   "codemirror_mode": {
    "name": "ipython",
    "version": 3
   },
   "file_extension": ".py",
   "mimetype": "text/x-python",
   "name": "python",
   "nbconvert_exporter": "python",
   "pygments_lexer": "ipython3",
   "version": "3.8.3"
  }
 },
 "nbformat": 4,
 "nbformat_minor": 4
}
