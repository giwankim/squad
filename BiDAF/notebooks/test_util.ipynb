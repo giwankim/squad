{
 "cells": [
  {
   "cell_type": "code",
   "execution_count": 12,
   "metadata": {},
   "outputs": [],
   "source": [
    "%reload_ext autoreload\n",
    "%autoreload 2"
   ]
  },
  {
   "cell_type": "code",
   "execution_count": 3,
   "metadata": {},
   "outputs": [],
   "source": [
    "import sys\n",
    "sys.path.insert(0, '../src/')"
   ]
  },
  {
   "cell_type": "code",
   "execution_count": 33,
   "metadata": {},
   "outputs": [],
   "source": [
    "import numpy as np\n",
    "\n",
    "import torch\n",
    "import torch.nn.functional as F\n",
    "\n",
    "from util import masked_softmax"
   ]
  },
  {
   "cell_type": "code",
   "execution_count": 19,
   "metadata": {},
   "outputs": [],
   "source": [
    "samples = 4\n",
    "maxlen = 6"
   ]
  },
  {
   "cell_type": "code",
   "execution_count": 24,
   "metadata": {},
   "outputs": [
    {
     "data": {
      "text/plain": [
       "tensor([[ 0.2672,  0.3516, -2.5833, -0.1929, -0.2811,  0.0372],\n",
       "        [-0.3425, -1.1083,  0.2950, -1.3571, -1.2215,  1.8443],\n",
       "        [-0.4433,  1.1551, -0.1436, -0.3647,  1.0059, -0.0839],\n",
       "        [ 0.4208, -1.2898, -0.8294,  1.2627,  0.0663,  0.4260]])"
      ]
     },
     "execution_count": 24,
     "metadata": {},
     "output_type": "execute_result"
    }
   ],
   "source": [
    "logits = torch.randn((samples, maxlen))\n",
    "logits"
   ]
  },
  {
   "cell_type": "code",
   "execution_count": 28,
   "metadata": {},
   "outputs": [
    {
     "data": {
      "text/plain": [
       "tensor([4, 6, 1, 3])"
      ]
     },
     "execution_count": 28,
     "metadata": {},
     "output_type": "execute_result"
    }
   ],
   "source": [
    "lengths = torch.tensor([4, 6, 1, 3])\n",
    "lengths"
   ]
  },
  {
   "cell_type": "code",
   "execution_count": 26,
   "metadata": {},
   "outputs": [
    {
     "data": {
      "text/plain": [
       "tensor([[1, 1, 1, 1, 0, 0],\n",
       "        [1, 1, 1, 1, 1, 1],\n",
       "        [1, 0, 0, 0, 0, 0],\n",
       "        [1, 1, 1, 0, 0, 0]], dtype=torch.int32)"
      ]
     },
     "execution_count": 26,
     "metadata": {},
     "output_type": "execute_result"
    }
   ],
   "source": [
    "mask = torch.arange(maxlen)[None, :] < lengths[:, None]\n",
    "mask.int()"
   ]
  },
  {
   "cell_type": "code",
   "execution_count": 27,
   "metadata": {},
   "outputs": [
    {
     "data": {
      "text/plain": [
       "tensor([[0.3601, 0.3918, 0.0208, 0.2273, 0.0000, 0.0000],\n",
       "        [0.0767, 0.0357, 0.1451, 0.0278, 0.0318, 0.6830],\n",
       "        [1.0000, 0.0000, 0.0000, 0.0000, 0.0000, 0.0000],\n",
       "        [0.6816, 0.1232, 0.1952, 0.0000, 0.0000, 0.0000]])"
      ]
     },
     "execution_count": 27,
     "metadata": {},
     "output_type": "execute_result"
    }
   ],
   "source": [
    "probs = masked_softmax(logits, mask, dim=-1)\n",
    "probs"
   ]
  },
  {
   "cell_type": "code",
   "execution_count": 30,
   "metadata": {},
   "outputs": [
    {
     "data": {
      "text/plain": [
       "tensor([[ 0.2672,  0.3516, -2.5833, -0.1929, -0.0000,  0.0000],\n",
       "        [-0.3425, -1.1083,  0.2950, -1.3571, -1.2215,  1.8443],\n",
       "        [-0.4433,  0.0000, -0.0000, -0.0000,  0.0000, -0.0000],\n",
       "        [ 0.4208, -1.2898, -0.8294,  0.0000,  0.0000,  0.0000]])"
      ]
     },
     "execution_count": 30,
     "metadata": {},
     "output_type": "execute_result"
    }
   ],
   "source": [
    "logits * mask"
   ]
  },
  {
   "cell_type": "code",
   "execution_count": 37,
   "metadata": {},
   "outputs": [
    {
     "name": "stdout",
     "output_type": "stream",
     "text": [
      "tensor([[0.3124, 0.7013, 0.0407, 0.7621, 0.0000, 0.0000],\n",
      "        [0.1698, 0.1629, 0.7241, 0.2379, 1.0000, 1.0000],\n",
      "        [0.1535, 0.0000, 0.0000, 0.0000, 0.0000, 0.0000],\n",
      "        [0.3643, 0.1358, 0.2352, 0.0000, 0.0000, 0.0000]])\n",
      "tensor([[0.3124, 0.7013, 0.0407, 0.7621, 0.0000, 0.0000],\n",
      "        [0.1698, 0.1629, 0.7241, 0.2379, 1.0000, 1.0000],\n",
      "        [0.1535, 0.0000, 0.0000, 0.0000, 0.0000, 0.0000],\n",
      "        [0.3643, 0.1358, 0.2352, 0.0000, 0.0000, 0.0000]])\n",
      "tensor([[0.3601, 0.3918, 0.0208, 0.2273, 0.0000, 0.0000],\n",
      "        [0.0767, 0.0357, 0.1451, 0.0278, 0.0318, 0.6830],\n",
      "        [1.0000, 0.0000, 0.0000, 0.0000, 0.0000, 0.0000],\n",
      "        [0.6816, 0.1232, 0.1952, 0.0000, 0.0000, 0.0000]])\n",
      "tensor([[0.3601, 0.3918, 0.0208, 0.2273, 0.0000, 0.0000],\n",
      "        [0.0767, 0.0357, 0.1451, 0.0278, 0.0318, 0.6830],\n",
      "        [1.0000, 0.0000, 0.0000, 0.0000, 0.0000, 0.0000],\n",
      "        [0.6816, 0.1232, 0.1952, 0.0000, 0.0000, 0.0000]])\n"
     ]
    }
   ],
   "source": [
    "def test_masked_softmax(logits, mask):\n",
    "    for dim in range(len(logits.shape)):\n",
    "        result = masked_softmax(logits, mask, dim=dim)\n",
    "        \n",
    "        correct_result = F.softmax(logits * mask, dim=dim)\n",
    "        correct_result = correct_result * mask\n",
    "        correct_result = correct_result / (correct_result.sum(dim=dim, keepdim=True) + 1e-13)\n",
    "        \n",
    "        assert np.allclose(result.numpy(), correct_result.numpy())\n",
    "\n",
    "test_masked_softmax(logits, mask)"
   ]
  },
  {
   "cell_type": "code",
   "execution_count": null,
   "metadata": {},
   "outputs": [],
   "source": []
  }
 ],
 "metadata": {
  "kernelspec": {
   "display_name": "Python [conda env:squad] *",
   "language": "python",
   "name": "conda-env-squad-py"
  },
  "language_info": {
   "codemirror_mode": {
    "name": "ipython",
    "version": 3
   },
   "file_extension": ".py",
   "mimetype": "text/x-python",
   "name": "python",
   "nbconvert_exporter": "python",
   "pygments_lexer": "ipython3",
   "version": "3.8.3"
  }
 },
 "nbformat": 4,
 "nbformat_minor": 4
}
